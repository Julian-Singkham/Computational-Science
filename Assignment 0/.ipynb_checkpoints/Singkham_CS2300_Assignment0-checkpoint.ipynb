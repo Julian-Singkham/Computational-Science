{
 "cells": [
  {
   "cell_type": "markdown",
   "metadata": {},
   "source": [
    "# **Assignment 0**"
   ]
  },
  {
   "cell_type": "markdown",
   "metadata": {},
   "source": [
    "Submitted By: Julian Singkham\n",
    "Date: 12/01/2020"
   ]
  },
  {
   "cell_type": "markdown",
   "metadata": {},
   "source": [
    "## Abstract"
   ]
  },
  {
   "cell_type": "markdown",
   "metadata": {},
   "source": [
    "The purpose of this assignment is to familiarize myself with the Jupyter enviornment and the MSOE coding standard for CS 2300, Computational Science."
   ]
  },
  {
   "cell_type": "code",
   "execution_count": 1,
   "metadata": {
    "scrolled": false
   },
   "outputs": [
    {
     "name": "stdout",
     "output_type": "stream",
     "text": [
      "Does this cell work?\n"
     ]
    }
   ],
   "source": [
    "x = 0\n",
    "print(\"Does this cell work?\")\n",
    "x += 1"
   ]
  },
  {
   "cell_type": "code",
   "execution_count": 2,
   "metadata": {},
   "outputs": [
    {
     "name": "stdout",
     "output_type": "stream",
     "text": [
      "It worked!\n"
     ]
    }
   ],
   "source": [
    "if(x==1):\n",
    "    print(\"It worked!\")\n",
    "else:\n",
    "    print(\"The cell didn't work.\")"
   ]
  },
  {
   "cell_type": "code",
   "execution_count": 3,
   "metadata": {},
   "outputs": [
    {
     "name": "stdout",
     "output_type": "stream",
     "text": [
      "It is currently  16:17:44\n"
     ]
    }
   ],
   "source": [
    "import time\n",
    "\n",
    "clock = time.localtime()\n",
    "current_time = time.strftime(\"%H:%M:%S\", clock)\n",
    "print(\"It is currently \", current_time)"
   ]
  },
  {
   "cell_type": "code",
   "execution_count": 4,
   "metadata": {},
   "outputs": [
    {
     "name": "stdout",
     "output_type": "stream",
     "text": [
      "This loop has run  1  Times\n",
      "This loop has run  2  Times\n",
      "This loop has run  3  Times\n",
      "This loop has run  4  Times\n",
      "This loop has run  5  Times\n",
      "This loop has run  6  Times\n",
      "This loop has run  7  Times\n",
      "This loop has run  8  Times\n",
      "This loop has run  9  Times\n",
      "This loop has run  10  Times\n"
     ]
    }
   ],
   "source": [
    "for y in range(10):\n",
    "  print(\"This loop has run \", y+1, \" Times\")"
   ]
  },
  {
   "cell_type": "markdown",
   "metadata": {},
   "source": [
    "## Conclusion"
   ]
  },
  {
   "cell_type": "markdown",
   "metadata": {},
   "source": [
    "This is the first time I've programmed in Python 3 since highschool, as python isn't included in the CE track. I find the block based programming really interesting as it makes debugging and module testing a lot easier. The only issue I had with this assignment is the python syntax, as I keep adding semicolons to the end of each line. Given a few weeks I should be able to write in Python proficiently."
   ]
  }
 ],
 "metadata": {
  "kernelspec": {
   "display_name": "Python 3",
   "language": "python",
   "name": "python3"
  },
  "language_info": {
   "codemirror_mode": {
    "name": "ipython",
    "version": 3
   },
   "file_extension": ".py",
   "mimetype": "text/x-python",
   "name": "python",
   "nbconvert_exporter": "python",
   "pygments_lexer": "ipython3",
   "version": "3.8.5"
  }
 },
 "nbformat": 4,
 "nbformat_minor": 4
}
