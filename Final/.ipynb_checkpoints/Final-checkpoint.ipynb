{
 "cells": [
  {
   "cell_type": "code",
   "execution_count": 1,
   "metadata": {},
   "outputs": [],
   "source": [
    "import numpy as np\n",
    "import csv\n",
    "import matplotlib.pyplot as plt\n",
    "import pandas as pd\n",
    "import math"
   ]
  },
  {
   "cell_type": "code",
   "execution_count": 26,
   "metadata": {},
   "outputs": [
    {
     "data": {
      "text/plain": [
       "Text(0.5, 1.0, 'Mini Cooper Mileage vs Price')"
      ]
     },
     "execution_count": 26,
     "metadata": {},
     "output_type": "execute_result"
    },
    {
     "data": {
      "image/png": "[encoded data removed]",
      "text/plain": [
       "<Figure size 720x432 with 1 Axes>"
      ]
     },
     "metadata": {
      "needs_background": "light"
     },
     "output_type": "display_data"
    }
   ],
   "source": [
    "with open(\"MINIcarPricesSM.csv\", encoding='utf8') as file:\n",
    "    next(file)\n",
    "    data = csv.reader(file)\n",
    "    data_list = []\n",
    "    for line in data:\n",
    "        data_list.append([int(x) for x in line])\n",
    "file.closed\n",
    "\n",
    "mini_2002 = []\n",
    "mini_2008 = []\n",
    "mini_2013 = []\n",
    "mini_2018 = []\n",
    "for row in data_list:\n",
    "    if row[1] == 2002:\n",
    "        mini_2002.append(row)\n",
    "    elif row[1] == 2008:\n",
    "        mini_2008.append(row)\n",
    "    elif row[1] == 2013:\n",
    "        mini_2013.append(row)\n",
    "    elif row[1] == 2018:\n",
    "        mini_2018.append(row)\n",
    "mini_2002 = np.array(mini_2002)\n",
    "mini_2008 = np.array(mini_2008)\n",
    "mini_2013 = np.array(mini_2013)\n",
    "mini_2018 = np.array(mini_2018)\n",
    "\n",
    "plt.figure(figsize=(10,6))\n",
    "plt.plot(mini_2002[:,0], mini_2002[:,2], 'o', color = 'orange', label = '2002')\n",
    "plt.plot(mini_2008[:,0], mini_2008[:,2], 'o', color = 'blue', label = '2008')\n",
    "plt.plot(mini_2013[:,0], mini_2013[:,2], 'o', color = 'green', label = '2013')\n",
    "plt.plot(mini_2018[:,0], mini_2018[:,2], 'o', color = 'cyan', label = '2018')\n",
    "plt.xlabel(\"Price\")\n",
    "plt.ylabel(\"Julian Singkham\")\n",
    "plt.legend(loc=\"upper right\")\n",
    "plt.title(\"Mini Cooper Mileage vs Price\")"
   ]
  },
  {
   "cell_type": "code",
   "execution_count": 4,
   "metadata": {},
   "outputs": [],
   "source": [
    "a = np.array([[1, 2, 3, 4], \n",
    "              [5, 6, 7, 8], \n",
    "              [9, 10, 11, 12]])"
   ]
  },
  {
   "cell_type": "code",
   "execution_count": 6,
   "metadata": {},
   "outputs": [],
   "source": [
    "data = {\"bob\":[1, 500, 300], \"col2\":[4, 5, 6], \"col3\":[7, 8, 9]}\n",
    "df = pd.DataFrame(data)\n",
    "df_2 = df[df[\"bob\"].gt(100)].copy(\"bob\")"
   ]
  },
  {
   "cell_type": "code",
   "execution_count": 16,
   "metadata": {},
   "outputs": [
    {
     "data": {
      "text/plain": [
       "1    500\n",
       "2    300\n",
       "Name: bob, dtype: int64"
      ]
     },
     "execution_count": 16,
     "metadata": {},
     "output_type": "execute_result"
    }
   ],
   "source": [
    "df_2 = df[df[\"bob\"] > 100][\"bob\"]\n",
    "df_2.head()"
   ]
  },
  {
   "cell_type": "code",
   "execution_count": 45,
   "metadata": {},
   "outputs": [],
   "source": [
    "before = [1,4,7,16,25]"
   ]
  },
  {
   "cell_type": "code",
   "execution_count": 88,
   "metadata": {},
   "outputs": [],
   "source": [
    "after = list([i ** 2, i * 2] for i in before)\n",
    "print(after)"
   ]
  },
  {
   "cell_type": "code",
   "execution_count": 2,
   "metadata": {},
   "outputs": [],
   "source": [
    "#Julian Singkham\n",
    "df = pd.read_csv(\"FinalExamRegressionRMSE.csv\")"
   ]
  },
  {
   "cell_type": "code",
   "execution_count": 17,
   "metadata": {},
   "outputs": [
    {
     "name": "stdout",
     "output_type": "stream",
     "text": [
      "895 µs ± 25.9 µs per loop (mean ± std. dev. of 7 runs, 1000 loops each)\n"
     ]
    }
   ],
   "source": [
    "%%timeit\n",
    "#Looping Version\n",
    "actual_list = df[\"Actual\"].values.tolist()\n",
    "predicted_list = df[\"Predicted\"].values.tolist()\n",
    "square = 0\n",
    "for i in range(len(actual_list)):\n",
    "    square += (actual_list[i] - predicted_list[i]) **2 \n",
    "RMSE_loop = (square / len(actual_list)) **.5"
   ]
  },
  {
   "cell_type": "code",
   "execution_count": 12,
   "metadata": {},
   "outputs": [
    {
     "name": "stdout",
     "output_type": "stream",
     "text": [
      "7.722615795115797\n"
     ]
    }
   ],
   "source": [
    "print(RMSE_loop)"
   ]
  },
  {
   "cell_type": "code",
   "execution_count": 18,
   "metadata": {},
   "outputs": [
    {
     "name": "stdout",
     "output_type": "stream",
     "text": [
      "220 µs ± 9.03 µs per loop (mean ± std. dev. of 7 runs, 1000 loops each)\n"
     ]
    }
   ],
   "source": [
    "%%timeit\n",
    "#Pandas Version\n",
    "RMSE_pandas = ((df[\"Actual\"] - df[\"Predicted\"]) ** 2).mean() ** .5"
   ]
  },
  {
   "cell_type": "code",
   "execution_count": 14,
   "metadata": {},
   "outputs": [
    {
     "name": "stdout",
     "output_type": "stream",
     "text": [
      "7.722615795115797\n"
     ]
    }
   ],
   "source": [
    "print(RMSE_pandas)"
   ]
  },
  {
   "cell_type": "code",
   "execution_count": 19,
   "metadata": {},
   "outputs": [
    {
     "name": "stdout",
     "output_type": "stream",
     "text": [
      "22.7 µs ± 121 ns per loop (mean ± std. dev. of 7 runs, 10000 loops each)\n"
     ]
    }
   ],
   "source": [
    "%%timeit\n",
    "#Numpy Version\n",
    "actual_np = df[\"Actual\"].to_numpy()\n",
    "predicted_np = df[\"Predicted\"].to_numpy()\n",
    "RMSE_numpy = math.sqrt(np.square(np.subtract(actual_np, predicted_np)).mean())"
   ]
  },
  {
   "cell_type": "code",
   "execution_count": 16,
   "metadata": {},
   "outputs": [
    {
     "name": "stdout",
     "output_type": "stream",
     "text": [
      "7.722615795115799\n"
     ]
    }
   ],
   "source": [
    "print(RMSE_numpy)"
   ]
  },
  {
   "cell_type": "code",
   "execution_count": null,
   "metadata": {},
   "outputs": [],
   "source": []
  },
  {
   "cell_type": "code",
   "execution_count": null,
   "metadata": {},
   "outputs": [],
   "source": []
  }
 ],
 "metadata": {
  "kernelspec": {
   "display_name": "Python 3",
   "language": "python",
   "name": "python3"
  },
  "language_info": {
   "codemirror_mode": {
    "name": "ipython",
    "version": 3
   },
   "file_extension": ".py",
   "mimetype": "text/x-python",
   "name": "python",
   "nbconvert_exporter": "python",
   "pygments_lexer": "ipython3",
   "version": "3.8.5"
  }
 },
 "nbformat": 4,
 "nbformat_minor": 4
}
