{
 "cells": [
  {
   "cell_type": "markdown",
   "metadata": {},
   "source": [
    "# Lab 1: Birthday Probability\n",
    "Submitted By: Julian Singkham  \n",
    "Date: 12/10/2020"
   ]
  },
  {
   "cell_type": "markdown",
   "metadata": {},
   "source": [
    "## Abstract\n",
    "The purpose of this lab is to calculate the probability of an x group of people having the same birthday assuming there are only 365 days a year and every day has an equal probability of being a birthday"
   ]
  },
  {
   "cell_type": "markdown",
   "metadata": {},
   "source": [
    "### Parameters"
   ]
  },
  {
   "cell_type": "code",
   "execution_count": 1,
   "metadata": {},
   "outputs": [],
   "source": [
    "import random\n",
    "from collections import Counter\n",
    "import matplotlib.pyplot as plt\n",
    "\n",
    "group_size = 32\n",
    "number_of_simulations = 10000"
   ]
  },
  {
   "cell_type": "markdown",
   "metadata": {},
   "source": [
    "### Functions\n",
    "Generates a list of birthdays\n",
    "\n",
    "**Param** size: Size of the birthday list, default size of 23\n",
    "\n",
    "**Return**:The randomly generated list of birthdays"
   ]
  },
  {
   "cell_type": "code",
   "execution_count": 2,
   "metadata": {},
   "outputs": [],
   "source": [
    "def generate_birthdays(size = 23):\n",
    "    '''\n",
    "    Generates a list of randomized birthdays of a given size.\n",
    "    If no size is given then the defualt size is 23\n",
    "    '''\n",
    "    randomlist = []\n",
    "    for i in range(0, size):\n",
    "        n = random.randint(1,365)\n",
    "        randomlist.append(n)\n",
    "    return randomlist"
   ]
  },
  {
   "cell_type": "markdown",
   "metadata": {},
   "source": [
    "Filters a given birthday list to the ones that are in common\n",
    "\n",
    "**Param** birthday_list: A list of birthdays\n",
    "\n",
    "**Return** A list of birthdays that two or more people have in common"
   ]
  },
  {
   "cell_type": "code",
   "execution_count": 3,
   "metadata": {},
   "outputs": [],
   "source": [
    "def compare_birthdays(birthday_list):\n",
    "    #Counter is used to tally how many people have the same birthday\n",
    "    collisions = Counter(birthday_list)\n",
    "    #(Ref 1) A second counter is used to filter for birthdays that two or more people share.\n",
    "    collisions_filtered = Counter({k: collisions for k, collisions in collisions.items() if collisions > 1})\n",
    "    return collisions_filtered"
   ]
  },
  {
   "cell_type": "markdown",
   "metadata": {},
   "source": [
    "Simulates the probability that two or more people will have the same birthday\n",
    "\n",
    "**Param** count: How many times to run the simulation\n",
    "\n",
    "**Return** None"
   ]
  },
  {
   "cell_type": "code",
   "execution_count": 4,
   "metadata": {},
   "outputs": [],
   "source": [
    "def simulation(count):\n",
    "    collisions = 0\n",
    "    for i in range(0, count):\n",
    "        birthday_list = generate_birthdays(group_size)\n",
    "        #Convert counter to list\n",
    "        collisions_list = compare_birthdays(birthday_list).most_common()\n",
    "        if len(collisions_list) > 0:\n",
    "            collisions = collisions+1\n",
    "    probability = round((collisions/number_of_simulations)*100,2)\n",
    "    \n",
    "    \n",
    "    \n",
    "    print(\"The probability of a group of size\", group_size, \n",
    "          \"having a common birthday is\", probability, \"%\")\n",
    "    "
   ]
  },
  {
   "cell_type": "markdown",
   "metadata": {},
   "source": [
    "Finds the minimum group size to have a probablity greater than 50% that two people share the same birthday. Also generates a graph of the group size vs probability.\n",
    "\n",
    "**Param** None\n",
    "\n",
    "**Return** None"
   ]
  },
  {
   "cell_type": "code",
   "execution_count": 5,
   "metadata": {},
   "outputs": [],
   "source": [
    "def simulation_smallest_size():\n",
    "    minimum = 1\n",
    "    flag = 1\n",
    "    probability_list = []\n",
    "    size_list = []\n",
    "    while(flag):\n",
    "        collisions = 0\n",
    "        for i in range(0, 10000):\n",
    "            birthday_list = generate_birthdays(minimum)\n",
    "            #Convert counter to list\n",
    "            collisions_list = compare_birthdays(birthday_list).most_common()\n",
    "            if len(collisions_list) > 0:\n",
    "                collisions = collisions + 1\n",
    "        probability = round((collisions/number_of_simulations)*100,2)\n",
    "        probability_list.append(probability)\n",
    "        size_list.append(minimum)\n",
    "        if probability > 50: #Changin this number sets the probability threshhold\n",
    "            flag = 0\n",
    "        else:\n",
    "            minimum = minimum + 1\n",
    "            \n",
    "    plt.scatter(probability_list, size_list)\n",
    "    plt.xlabel(\"Probability\", fontsize=16)\n",
    "    plt.xticks(rotation=90)\n",
    "    plt.ylabel(\"Group size\", fontsize=16)\n",
    "    \n",
    "    print(\"The minimum group size required to have a probability greater 50% that two people\", \n",
    "          \"share the same birthday is \", minimum)"
   ]
  },
  {
   "cell_type": "code",
   "execution_count": 6,
   "metadata": {},
   "outputs": [
    {
     "name": "stdout",
     "output_type": "stream",
     "text": [
      "The minimum group size required to have a probability greater 50% that two people share the same birthday is  23\n"
     ]
    },
    {
     "data": {
      "image/png": "[encoded data removed]",
      "text/plain": [
       "<Figure size 432x288 with 1 Axes>"
      ]
     },
     "metadata": {
      "needs_background": "light"
     },
     "output_type": "display_data"
    }
   ],
   "source": [
    "simulation_smallest_size()"
   ]
  },
  {
   "cell_type": "code",
   "execution_count": 8,
   "metadata": {},
   "outputs": [
    {
     "name": "stdout",
     "output_type": "stream",
     "text": [
      "The probability of a group of size 32 having a common birthday is 75.23 %\n",
      "The probability of a group of size 32 having a common birthday is 75.02 %\n",
      "The probability of a group of size 32 having a common birthday is 75.51 %\n",
      "The probability of a group of size 32 having a common birthday is 75.28 %\n",
      "The probability of a group of size 32 having a common birthday is 75.27 %\n",
      "The probability of a group of size 32 having a common birthday is 75.06 %\n",
      "The probability of a group of size 32 having a common birthday is 75.44 %\n",
      "The probability of a group of size 32 having a common birthday is 75.38 %\n",
      "358 ms ± 8.98 ms per loop (mean ± std. dev. of 7 runs, 1 loop each)\n"
     ]
    }
   ],
   "source": [
    "%timeit simulation(number_of_simulations)"
   ]
  },
  {
   "cell_type": "markdown",
   "metadata": {},
   "source": [
    "## Conclusion  \n",
    "Overall the lab wasn't too difficult to complete and the results are pretty interesting. In comparison to Rosie, both systems run the algorithm at the same time which doesn't make sense to me as Rosie should have a much faster CPU. I believe this may be due to the overhead caused by the scheduling system and the fact that the algorithm itself has a short run time (only 10000 iterations are done). Secondly it seems very strange to me that given a group size of 23 and 365 possible birthdays, the probability that two people have the same birthday is 50%. I assumed it would have to be 1/4 of the data size. Learning how counter works in linux was really intersting as and definitely helped speed up the process of checking for birthday collisions."
   ]
  },
  {
   "cell_type": "markdown",
   "metadata": {},
   "source": [
    "## References\n",
    "\n",
    "(1) Utilized the information in this link to filter out unique counts in collisons counter.  \n",
    "https://stackoverflow.com/questions/15861739/removing-objects-whose-counts-are-less-than-threshold-in-counter"
   ]
  },
  {
   "cell_type": "markdown",
   "metadata": {},
   "source": [
    "1.) What is the probability of a group of size 20 that at least one pair has the same birthday?  \n",
    "    It's about 40%\n",
    "    \n",
    "2.) What is the smallest group size to have a probability of greater than 50% that two people share the same birthday?  \n",
    "    The smallest group is 23.\n",
    "    \n",
    "3.) How large of an N is necessary to provide confidence in your answer?  \n",
    "    A size of 32 would be necessary as I believe a ~75% accuracy is good enough for me.\n",
    "    \n",
    "4.) How is this problem related to hash collisions?  \n",
    "    This problem is basically the same as hash collisions as a birthday can be seen the same as the hash value of an object and     the length of a year is the same as the size of the hash table."
   ]
  }
 ],
 "metadata": {
  "kernelspec": {
   "display_name": "Python 3",
   "language": "python",
   "name": "python3"
  },
  "language_info": {
   "codemirror_mode": {
    "name": "ipython",
    "version": 3
   },
   "file_extension": ".py",
   "mimetype": "text/x-python",
   "name": "python",
   "nbconvert_exporter": "python",
   "pygments_lexer": "ipython3",
   "version": "3.8.5"
  }
 },
 "nbformat": 4,
 "nbformat_minor": 4
}
