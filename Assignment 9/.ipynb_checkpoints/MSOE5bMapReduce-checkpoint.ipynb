{
 "cells": [
  {
   "cell_type": "markdown",
   "metadata": {},
   "source": [
    "# MapReduce By Hand\n",
    "The input to a MapReduce job is just a set of (input_key,input_value) pairs, which we’ll implement as a Python dictionary. In the wordcount example, the input keys will be the filenames of the files we’re interested in counting words in, and the corresponding input values will be the contents of those files:"
   ]
  },
  {
   "cell_type": "code",
   "execution_count": null,
   "metadata": {},
   "outputs": [],
   "source": [
    "filenames = [\"/data/cs2300/examples/t1.txt\",\"/data/cs2300/examples/t2.txt\",\"/data/cs2300/examples/t3.txt\"]\n",
    "i = {}\n",
    "for filename in filenames:\n",
    "    f = open(filename)\n",
    "    i[filename] = f.read()\n",
    "    f.close()"
   ]
  },
  {
   "cell_type": "markdown",
   "metadata": {},
   "source": [
    "Next we define our own Map function"
   ]
  },
  {
   "cell_type": "code",
   "execution_count": null,
   "metadata": {},
   "outputs": [],
   "source": [
    "import string\n",
    "\n",
    "def mapper(input_key,input_value):\n",
    "    return [(word,1) for word in remove_punctuation(input_value.lower()).split()]\n",
    "\n",
    "def reducer(intermediate_key,intermediate_value_list):\n",
    "    return (intermediate_key,sum(intermediate_value_list))\n",
    "\n",
    "def remove_punctuation(s):\n",
    "    return s.translate(str.maketrans(\"\", \"\",string.punctuation))"
   ]
  },
  {
   "cell_type": "code",
   "execution_count": null,
   "metadata": {},
   "outputs": [],
   "source": [
    " mapper(\"t1.txt\",i[\"/data/cs2300/examples/t1.txt\"])"
   ]
  },
  {
   "cell_type": "code",
   "execution_count": null,
   "metadata": {},
   "outputs": [],
   "source": [
    "import itertools\n",
    "\n",
    "def map_reduce(i,mapper,reducer):\n",
    "    intermediate = []\n",
    "    for (key,value) in i.items():\n",
    "        intermediate.extend(mapper(key,value))\n",
    "    groups = {}\n",
    "    for key, group in itertools.groupby(sorted(intermediate), lambda x: x[0]):\n",
    "        groups[key] = list([y for x, y in group])\n",
    "    return [reducer(intermediate_key,groups[intermediate_key]) for intermediate_key in groups] "
   ]
  },
  {
   "cell_type": "code",
   "execution_count": null,
   "metadata": {},
   "outputs": [],
   "source": [
    "print(map_reduce(i,mapper,reducer))"
   ]
  },
  {
   "cell_type": "markdown",
   "metadata": {},
   "source": [
    "Identify 5 well-known algorithms from this list: https://en.wikipedia.org/wiki/List_of_algorithms that are likely to be a good fit for the MapReduce model\n"
   ]
  },
  {
   "cell_type": "markdown",
   "metadata": {},
   "source": [
    "## Challenge 1\n",
    "In the following cell(s), try different text files in the /data/cs2300/examples directory and do some benchmarking to see how this approach scales!"
   ]
  },
  {
   "cell_type": "code",
   "execution_count": null,
   "metadata": {},
   "outputs": [],
   "source": []
  },
  {
   "cell_type": "markdown",
   "metadata": {},
   "source": [
    "## Challenge 2\n",
    "In the following cell(s), use Pandas to accomplish the same task as Challenge 1 and compare the performance.  "
   ]
  },
  {
   "cell_type": "code",
   "execution_count": null,
   "metadata": {},
   "outputs": [],
   "source": []
  },
  {
   "cell_type": "markdown",
   "metadata": {},
   "source": [
    "## Challenge 3\n",
    "In the following cell(s), see if you can use this mapper and reducer to solve the problem from Lab 3/4!"
   ]
  },
  {
   "cell_type": "code",
   "execution_count": null,
   "metadata": {},
   "outputs": [],
   "source": []
  }
 ],
 "metadata": {
  "kernelspec": {
   "display_name": "Python 3",
   "language": "python",
   "name": "python3"
  },
  "language_info": {
   "codemirror_mode": {
    "name": "ipython",
    "version": 3
   },
   "file_extension": ".py",
   "mimetype": "text/x-python",
   "name": "python",
   "nbconvert_exporter": "python",
   "pygments_lexer": "ipython3",
   "version": "3.8.5"
  }
 },
 "nbformat": 4,
 "nbformat_minor": 2
}
